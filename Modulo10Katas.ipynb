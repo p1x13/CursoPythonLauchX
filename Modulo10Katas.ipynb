{
 "cells": [
  {
   "cell_type": "markdown",
   "metadata": {},
   "source": [
    "Errores al abrir documentos que no existen"
   ]
  },
  {
   "cell_type": "code",
   "execution_count": 1,
   "metadata": {},
   "outputs": [
    {
     "ename": "FileNotFoundError",
     "evalue": "[Errno 2] No such file or directory: '/path/to/mars.jpg'",
     "output_type": "error",
     "traceback": [
      "\u001b[1;31m---------------------------------------------------------------------------\u001b[0m",
      "\u001b[1;31mFileNotFoundError\u001b[0m                         Traceback (most recent call last)",
      "\u001b[1;32mc:\\Users\\GABRIELARMANDOPEREZR\\Documents\\CursoIntroPython-main\\CursoIntroPythonLaunchX\\Modulo10Katas.ipynb Cell 1'\u001b[0m in \u001b[0;36m<module>\u001b[1;34m\u001b[0m\n\u001b[1;32m----> <a href='vscode-notebook-cell:/c%3A/Users/GABRIELARMANDOPEREZR/Documents/CursoIntroPython-main/CursoIntroPythonLaunchX/Modulo10Katas.ipynb#ch0000000?line=0'>1</a>\u001b[0m \u001b[39mopen\u001b[39;49m(\u001b[39m\"\u001b[39;49m\u001b[39m/path/to/mars.jpg\u001b[39;49m\u001b[39m\"\u001b[39;49m)\n",
      "\u001b[1;31mFileNotFoundError\u001b[0m: [Errno 2] No such file or directory: '/path/to/mars.jpg'"
     ]
    }
   ],
   "source": [
    "open(\"/path/to/mars.jpg\")"
   ]
  },
  {
   "cell_type": "markdown",
   "metadata": {},
   "source": [
    "![](../images/error/error1.png)"
   ]
  },
  {
   "cell_type": "code",
   "execution_count": 2,
   "metadata": {},
   "outputs": [
    {
     "ename": "FileNotFoundError",
     "evalue": "[Errno 2] No such file or directory: '/path/to/mars.jpg'",
     "output_type": "error",
     "traceback": [
      "\u001b[1;31m---------------------------------------------------------------------------\u001b[0m",
      "\u001b[1;31mFileNotFoundError\u001b[0m                         Traceback (most recent call last)",
      "\u001b[1;32mc:\\Users\\GABRIELARMANDOPEREZR\\Documents\\CursoIntroPython-main\\CursoIntroPythonLaunchX\\Modulo10Katas.ipynb Cell 4'\u001b[0m in \u001b[0;36m<module>\u001b[1;34m\u001b[0m\n\u001b[0;32m      <a href='vscode-notebook-cell:/c%3A/Users/GABRIELARMANDOPEREZR/Documents/CursoIntroPython-main/CursoIntroPythonLaunchX/Modulo10Katas.ipynb#ch0000007?line=2'>3</a>\u001b[0m     \u001b[39mopen\u001b[39m(\u001b[39m\"\u001b[39m\u001b[39m/path/to/mars.jpg\u001b[39m\u001b[39m\"\u001b[39m)\n\u001b[0;32m      <a href='vscode-notebook-cell:/c%3A/Users/GABRIELARMANDOPEREZR/Documents/CursoIntroPython-main/CursoIntroPythonLaunchX/Modulo10Katas.ipynb#ch0000007?line=4'>5</a>\u001b[0m \u001b[39mif\u001b[39;00m \u001b[39m__name__\u001b[39m \u001b[39m==\u001b[39m \u001b[39m'\u001b[39m\u001b[39m__main__\u001b[39m\u001b[39m'\u001b[39m:\n\u001b[1;32m----> <a href='vscode-notebook-cell:/c%3A/Users/GABRIELARMANDOPEREZR/Documents/CursoIntroPython-main/CursoIntroPythonLaunchX/Modulo10Katas.ipynb#ch0000007?line=5'>6</a>\u001b[0m     main()\n",
      "\u001b[1;32mc:\\Users\\GABRIELARMANDOPEREZR\\Documents\\CursoIntroPython-main\\CursoIntroPythonLaunchX\\Modulo10Katas.ipynb Cell 4'\u001b[0m in \u001b[0;36mmain\u001b[1;34m()\u001b[0m\n\u001b[0;32m      <a href='vscode-notebook-cell:/c%3A/Users/GABRIELARMANDOPEREZR/Documents/CursoIntroPython-main/CursoIntroPythonLaunchX/Modulo10Katas.ipynb#ch0000007?line=1'>2</a>\u001b[0m \u001b[39mdef\u001b[39;00m \u001b[39mmain\u001b[39m():\n\u001b[1;32m----> <a href='vscode-notebook-cell:/c%3A/Users/GABRIELARMANDOPEREZR/Documents/CursoIntroPython-main/CursoIntroPythonLaunchX/Modulo10Katas.ipynb#ch0000007?line=2'>3</a>\u001b[0m     \u001b[39mopen\u001b[39;49m(\u001b[39m\"\u001b[39;49m\u001b[39m/path/to/mars.jpg\u001b[39;49m\u001b[39m\"\u001b[39;49m)\n",
      "\u001b[1;31mFileNotFoundError\u001b[0m: [Errno 2] No such file or directory: '/path/to/mars.jpg'"
     ]
    }
   ],
   "source": [
    "#Archivo open.py\n",
    "#Explorando errores\n",
    "def main():\n",
    "    open(\"/path/to/mars.jpg\")\n",
    "\n",
    "if __name__ == '__main__':\n",
    "    main()"
   ]
  },
  {
   "cell_type": "markdown",
   "metadata": {},
   "source": [
    "![](../images/error/errorOpenPY.png)"
   ]
  }
 ],
 "metadata": {
  "interpreter": {
   "hash": "952cebd268a10adb2991397a81962398f2288a21ee5b23bb085d52835bc62251"
  },
  "kernelspec": {
   "display_name": "Python 3.10.0 64-bit",
   "language": "python",
   "name": "python3"
  },
  "language_info": {
   "codemirror_mode": {
    "name": "ipython",
    "version": 3
   },
   "file_extension": ".py",
   "mimetype": "text/x-python",
   "name": "python",
   "nbconvert_exporter": "python",
   "pygments_lexer": "ipython3",
   "version": "3.10.0"
  },
  "orig_nbformat": 4
 },
 "nbformat": 4,
 "nbformat_minor": 2
}
