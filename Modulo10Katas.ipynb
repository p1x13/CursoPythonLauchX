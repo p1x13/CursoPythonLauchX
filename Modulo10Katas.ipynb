{
 "cells": [
  {
   "cell_type": "markdown",
   "metadata": {},
   "source": [
    "Errores al abrir documentos que no existen"
   ]
  },
  {
   "cell_type": "code",
   "execution_count": null,
   "metadata": {},
   "outputs": [],
   "source": [
    "open(\"/path/to/mars.jpg\")"
   ]
  },
  {
   "cell_type": "markdown",
   "metadata": {},
   "source": [
    "![](../images/error/error1.png)"
   ]
  },
  {
   "cell_type": "markdown",
   "metadata": {},
   "source": [
    "![](../images/error/archivoOpenPY.png)\n",
    "\n",
    "![](../images/error/errorOpenPY.png)\n",
    "\n",
    "Bloque try\n",
    "\n",
    "![](../images/error/try.png)\n",
    "\n",
    "Para errores descriptivos\n",
    "\n",
    "![](../images/error/tryError.png)\n",
    "\n",
    "bloque tryExcept\n",
    "\n",
    "![](../images/error/tryExcept.png)\n",
    "\n",
    "resultado TryExcept\n",
    "\n",
    "![](../images/error/tryExceptError.png)\n",
    "\n",
    "Error al intentar abrir un directorio como archivo y asignar info\n",
    "\n",
    "![](../images/error/errorTipoArchivo.png)\n",
    "\n",
    "Agregando el bloque de excepcion para tipo de archivo FileNotFoudError y PermisionError\n",
    "\n",
    "![](../images/error/errorDenied.png)\n",
    "\n",
    "MAnejando errores de forma mas descriptiva\n",
    "\n",
    "![](../images/error/errorDescriptivo.png)\n"
   ]
  },
  {
   "cell_type": "markdown",
   "metadata": {},
   "source": [
    "![](../images/error/errorOpenPY.png)"
   ]
  }
 ],
 "metadata": {
  "interpreter": {
   "hash": "952cebd268a10adb2991397a81962398f2288a21ee5b23bb085d52835bc62251"
  },
  "kernelspec": {
   "display_name": "Python 3.10.0 64-bit",
   "language": "python",
   "name": "python3"
  },
  "language_info": {
   "codemirror_mode": {
    "name": "ipython",
    "version": 3
   },
   "file_extension": ".py",
   "mimetype": "text/x-python",
   "name": "python",
   "nbconvert_exporter": "python",
   "pygments_lexer": "ipython3",
   "version": "3.10.0"
  },
  "orig_nbformat": 4
 },
 "nbformat": 4,
 "nbformat_minor": 2
}
