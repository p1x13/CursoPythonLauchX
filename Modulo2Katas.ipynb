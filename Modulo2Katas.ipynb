{
 "cells": [
  {
   "cell_type": "markdown",
   "metadata": {},
   "source": [
    "Creación del entorno virtual\n",
    "\n",
    "![](../images/Imagen1.png)\n",
    "\n",
    "Activar un entorno virtual\n",
    "\n",
    "![](../images/Imagen2.png)\n",
    "\n",
    "Desactivar\n",
    "\n",
    "![](../images/Imagen3.png)\n"
   ]
  }
 ],
 "metadata": {
  "interpreter": {
   "hash": "952cebd268a10adb2991397a81962398f2288a21ee5b23bb085d52835bc62251"
  },
  "kernelspec": {
   "display_name": "Python 3.10.0 64-bit",
   "language": "python",
   "name": "python3"
  },
  "language_info": {
   "name": "python",
   "version": "3.10.0"
  },
  "orig_nbformat": 4
 },
 "nbformat": 4,
 "nbformat_minor": 2
}
